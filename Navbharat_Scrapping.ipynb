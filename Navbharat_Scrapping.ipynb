{
 "cells": [
  {
   "cell_type": "code",
   "execution_count": 6,
   "metadata": {},
   "outputs": [],
   "source": [
    "import numpy as np\n",
    "import pandas as pd\n",
    "import requests\n",
    "from bs4 import BeautifulSoup"
   ]
  },
  {
   "cell_type": "code",
   "execution_count": 7,
   "metadata": {},
   "outputs": [],
   "source": [
    "# Code for scraping first page of Navbharat Times Movie reviews website, can be easily extended to N number of pages"
   ]
  },
  {
   "cell_type": "code",
   "execution_count": 79,
   "metadata": {},
   "outputs": [],
   "source": [
    "MovieNames = []\n",
    "MovieReviews = []\n",
    "MovieRatingCritic = []\n",
    "MovieRatingReader = []"
   ]
  },
  {
   "cell_type": "code",
   "execution_count": 80,
   "metadata": {},
   "outputs": [],
   "source": [
    "def getallpages(page_link):\n",
    "    page = requests.get(page_link)\n",
    "    soup = BeautifulSoup(page.content,'lxml')\n",
    "    for moviebox in soup.find_all('div',class_='moviereviewBox'):\n",
    "        moviename = moviebox.find('h2',class_='moviename').a.text\n",
    "        #print(moviename)\n",
    "        movie_reviewlink = moviebox.find('h2',class_='moviename').a['href']\n",
    "        #print(movie_reviewlink)\n",
    "        movie_rating_critic = moviebox.find('div',class_='critic_rating').find('span',class_='numrating').text\n",
    "        #print(movie_rating_critic)\n",
    "        movie_rating_reader = moviebox.find('div',class_='reader_rating').find('span',class_='numrating').text\n",
    "        #print(movie_rating_reader)\n",
    "    \n",
    "        #---Now going to the individual movie page\n",
    "        individual_movie_page=None\n",
    "        try:\n",
    "            individual_movie_page = requests.get(movie_reviewlink)\n",
    "        except:\n",
    "            print(\"coudn't do this movie\")\n",
    "            continue\n",
    "        if(individual_movie_page is None):\n",
    "            print(\"coudn't do this movie\")\n",
    "            continue\n",
    "        individual_soup = BeautifulSoup(individual_movie_page.content,'lxml')\n",
    "        individual_moviebox = individual_soup.find('div',class_='Normal')\n",
    "        \n",
    "        full_moviereview=\"\"\n",
    "        \n",
    "        if(individual_moviebox is None):\n",
    "            print(\"coudn't do this movie\")\n",
    "            continue\n",
    "        \n",
    "        for t in individual_moviebox.text:\n",
    "            if(t!='\\n'):\n",
    "                full_moviereview+=t\n",
    "            \n",
    "        MovieNames.append(moviename)\n",
    "        MovieReviews.append(full_moviereview)\n",
    "        MovieRatingCritic.append(movie_rating_critic)\n",
    "        MovieRatingReader.append(movie_rating_reader)"
   ]
  },
  {
   "cell_type": "code",
   "execution_count": 81,
   "metadata": {},
   "outputs": [
    {
     "name": "stdout",
     "output_type": "stream",
     "text": [
      "https://navbharattimes.indiatimes.com/movie-masti/movie-review/articlelist/2325387.cms?curpg=1\n",
      "20\n",
      "https://navbharattimes.indiatimes.com/movie-masti/movie-review/articlelist/2325387.cms?curpg=2\n",
      "40\n",
      "https://navbharattimes.indiatimes.com/movie-masti/movie-review/articlelist/2325387.cms?curpg=3\n",
      "60\n",
      "https://navbharattimes.indiatimes.com/movie-masti/movie-review/articlelist/2325387.cms?curpg=4\n",
      "coudn't do this movie\n",
      "79\n",
      "https://navbharattimes.indiatimes.com/movie-masti/movie-review/articlelist/2325387.cms?curpg=5\n",
      "99\n",
      "https://navbharattimes.indiatimes.com/movie-masti/movie-review/articlelist/2325387.cms?curpg=6\n",
      "119\n",
      "https://navbharattimes.indiatimes.com/movie-masti/movie-review/articlelist/2325387.cms?curpg=7\n",
      "coudn't do this movie\n",
      "138\n",
      "https://navbharattimes.indiatimes.com/movie-masti/movie-review/articlelist/2325387.cms?curpg=8\n",
      "158\n",
      "https://navbharattimes.indiatimes.com/movie-masti/movie-review/articlelist/2325387.cms?curpg=9\n",
      "178\n",
      "https://navbharattimes.indiatimes.com/movie-masti/movie-review/articlelist/2325387.cms?curpg=10\n",
      "198\n",
      "https://navbharattimes.indiatimes.com/movie-masti/movie-review/articlelist/2325387.cms?curpg=11\n",
      "218\n",
      "https://navbharattimes.indiatimes.com/movie-masti/movie-review/articlelist/2325387.cms?curpg=12\n",
      "238\n",
      "https://navbharattimes.indiatimes.com/movie-masti/movie-review/articlelist/2325387.cms?curpg=13\n",
      "258\n",
      "https://navbharattimes.indiatimes.com/movie-masti/movie-review/articlelist/2325387.cms?curpg=14\n",
      "278\n",
      "https://navbharattimes.indiatimes.com/movie-masti/movie-review/articlelist/2325387.cms?curpg=15\n",
      "298\n",
      "https://navbharattimes.indiatimes.com/movie-masti/movie-review/articlelist/2325387.cms?curpg=16\n",
      "318\n",
      "https://navbharattimes.indiatimes.com/movie-masti/movie-review/articlelist/2325387.cms?curpg=17\n",
      "338\n",
      "https://navbharattimes.indiatimes.com/movie-masti/movie-review/articlelist/2325387.cms?curpg=18\n",
      "358\n",
      "https://navbharattimes.indiatimes.com/movie-masti/movie-review/articlelist/2325387.cms?curpg=19\n",
      "378\n",
      "https://navbharattimes.indiatimes.com/movie-masti/movie-review/articlelist/2325387.cms?curpg=20\n",
      "398\n",
      "https://navbharattimes.indiatimes.com/movie-masti/movie-review/articlelist/2325387.cms?curpg=21\n",
      "418\n",
      "https://navbharattimes.indiatimes.com/movie-masti/movie-review/articlelist/2325387.cms?curpg=22\n",
      "438\n",
      "https://navbharattimes.indiatimes.com/movie-masti/movie-review/articlelist/2325387.cms?curpg=23\n",
      "458\n",
      "https://navbharattimes.indiatimes.com/movie-masti/movie-review/articlelist/2325387.cms?curpg=24\n",
      "478\n",
      "https://navbharattimes.indiatimes.com/movie-masti/movie-review/articlelist/2325387.cms?curpg=25\n",
      "498\n",
      "https://navbharattimes.indiatimes.com/movie-masti/movie-review/articlelist/2325387.cms?curpg=26\n",
      "518\n",
      "https://navbharattimes.indiatimes.com/movie-masti/movie-review/articlelist/2325387.cms?curpg=27\n",
      "538\n",
      "https://navbharattimes.indiatimes.com/movie-masti/movie-review/articlelist/2325387.cms?curpg=28\n",
      "coudn't do this movie\n",
      "557\n",
      "https://navbharattimes.indiatimes.com/movie-masti/movie-review/articlelist/2325387.cms?curpg=29\n",
      "577\n",
      "https://navbharattimes.indiatimes.com/movie-masti/movie-review/articlelist/2325387.cms?curpg=30\n",
      "597\n",
      "https://navbharattimes.indiatimes.com/movie-masti/movie-review/articlelist/2325387.cms?curpg=31\n",
      "coudn't do this movie\n",
      "616\n",
      "https://navbharattimes.indiatimes.com/movie-masti/movie-review/articlelist/2325387.cms?curpg=32\n",
      "636\n",
      "https://navbharattimes.indiatimes.com/movie-masti/movie-review/articlelist/2325387.cms?curpg=33\n",
      "656\n",
      "https://navbharattimes.indiatimes.com/movie-masti/movie-review/articlelist/2325387.cms?curpg=34\n",
      "coudn't do this movie\n",
      "coudn't do this movie\n",
      "674\n",
      "https://navbharattimes.indiatimes.com/movie-masti/movie-review/articlelist/2325387.cms?curpg=35\n",
      "coudn't do this movie\n",
      "coudn't do this movie\n",
      "coudn't do this movie\n",
      "coudn't do this movie\n",
      "coudn't do this movie\n",
      "coudn't do this movie\n",
      "coudn't do this movie\n",
      "coudn't do this movie\n",
      "coudn't do this movie\n",
      "coudn't do this movie\n",
      "684\n",
      "https://navbharattimes.indiatimes.com/movie-masti/movie-review/articlelist/2325387.cms?curpg=36\n",
      "coudn't do this movie\n",
      "coudn't do this movie\n",
      "coudn't do this movie\n",
      "coudn't do this movie\n",
      "coudn't do this movie\n",
      "coudn't do this movie\n",
      "coudn't do this movie\n",
      "coudn't do this movie\n",
      "coudn't do this movie\n",
      "coudn't do this movie\n",
      "coudn't do this movie\n",
      "coudn't do this movie\n",
      "coudn't do this movie\n",
      "coudn't do this movie\n",
      "coudn't do this movie\n",
      "689\n",
      "https://navbharattimes.indiatimes.com/movie-masti/movie-review/articlelist/2325387.cms?curpg=37\n",
      "coudn't do this movie\n",
      "coudn't do this movie\n",
      "coudn't do this movie\n",
      "coudn't do this movie\n",
      "coudn't do this movie\n",
      "coudn't do this movie\n",
      "703\n",
      "https://navbharattimes.indiatimes.com/movie-masti/movie-review/articlelist/2325387.cms?curpg=38\n",
      "723\n",
      "https://navbharattimes.indiatimes.com/movie-masti/movie-review/articlelist/2325387.cms?curpg=39\n",
      "coudn't do this movie\n",
      "742\n",
      "https://navbharattimes.indiatimes.com/movie-masti/movie-review/articlelist/2325387.cms?curpg=40\n",
      "762\n",
      "https://navbharattimes.indiatimes.com/movie-masti/movie-review/articlelist/2325387.cms?curpg=41\n",
      "782\n",
      "https://navbharattimes.indiatimes.com/movie-masti/movie-review/articlelist/2325387.cms?curpg=42\n",
      "802\n",
      "https://navbharattimes.indiatimes.com/movie-masti/movie-review/articlelist/2325387.cms?curpg=43\n",
      "822\n",
      "https://navbharattimes.indiatimes.com/movie-masti/movie-review/articlelist/2325387.cms?curpg=44\n",
      "coudn't do this movie\n",
      "841\n",
      "https://navbharattimes.indiatimes.com/movie-masti/movie-review/articlelist/2325387.cms?curpg=45\n",
      "coudn't do this movie\n",
      "coudn't do this movie\n",
      "coudn't do this movie\n",
      "coudn't do this movie\n",
      "coudn't do this movie\n",
      "856\n",
      "https://navbharattimes.indiatimes.com/movie-masti/movie-review/articlelist/2325387.cms?curpg=46\n",
      "coudn't do this movie\n",
      "coudn't do this movie\n",
      "coudn't do this movie\n",
      "coudn't do this movie\n",
      "coudn't do this movie\n",
      "coudn't do this movie\n",
      "coudn't do this movie\n",
      "coudn't do this movie\n",
      "coudn't do this movie\n",
      "coudn't do this movie\n",
      "coudn't do this movie\n",
      "coudn't do this movie\n",
      "coudn't do this movie\n",
      "coudn't do this movie\n",
      "862\n",
      "https://navbharattimes.indiatimes.com/movie-masti/movie-review/articlelist/2325387.cms?curpg=47\n",
      "882\n",
      "https://navbharattimes.indiatimes.com/movie-masti/movie-review/articlelist/2325387.cms?curpg=48\n",
      "coudn't do this movie\n",
      "901\n",
      "https://navbharattimes.indiatimes.com/movie-masti/movie-review/articlelist/2325387.cms?curpg=49\n",
      "921\n",
      "https://navbharattimes.indiatimes.com/movie-masti/movie-review/articlelist/2325387.cms?curpg=50\n",
      "coudn't do this movie\n",
      "coudn't do this movie\n",
      "coudn't do this movie\n",
      "938\n",
      "https://navbharattimes.indiatimes.com/movie-masti/movie-review/articlelist/2325387.cms?curpg=51\n",
      "coudn't do this movie\n",
      "957\n",
      "https://navbharattimes.indiatimes.com/movie-masti/movie-review/articlelist/2325387.cms?curpg=52\n",
      "coudn't do this movie\n",
      "976\n",
      "https://navbharattimes.indiatimes.com/movie-masti/movie-review/articlelist/2325387.cms?curpg=53\n",
      "coudn't do this movie\n",
      "coudn't do this movie\n",
      "994\n",
      "https://navbharattimes.indiatimes.com/movie-masti/movie-review/articlelist/2325387.cms?curpg=54\n",
      "1014\n",
      "https://navbharattimes.indiatimes.com/movie-masti/movie-review/articlelist/2325387.cms?curpg=55\n",
      "1034\n",
      "https://navbharattimes.indiatimes.com/movie-masti/movie-review/articlelist/2325387.cms?curpg=56\n",
      "1054\n",
      "https://navbharattimes.indiatimes.com/movie-masti/movie-review/articlelist/2325387.cms?curpg=57\n",
      "1074\n",
      "https://navbharattimes.indiatimes.com/movie-masti/movie-review/articlelist/2325387.cms?curpg=58\n",
      "1094\n",
      "https://navbharattimes.indiatimes.com/movie-masti/movie-review/articlelist/2325387.cms?curpg=59\n",
      "1114\n",
      "https://navbharattimes.indiatimes.com/movie-masti/movie-review/articlelist/2325387.cms?curpg=60\n",
      "1134\n",
      "https://navbharattimes.indiatimes.com/movie-masti/movie-review/articlelist/2325387.cms?curpg=61\n",
      "coudn't do this movie\n",
      "coudn't do this movie\n",
      "1152\n",
      "https://navbharattimes.indiatimes.com/movie-masti/movie-review/articlelist/2325387.cms?curpg=62\n",
      "coudn't do this movie\n",
      "coudn't do this movie\n",
      "1170\n",
      "https://navbharattimes.indiatimes.com/movie-masti/movie-review/articlelist/2325387.cms?curpg=63\n",
      "1190\n",
      "https://navbharattimes.indiatimes.com/movie-masti/movie-review/articlelist/2325387.cms?curpg=64\n",
      "coudn't do this movie\n",
      "1209\n",
      "https://navbharattimes.indiatimes.com/movie-masti/movie-review/articlelist/2325387.cms?curpg=65\n",
      "1229\n"
     ]
    }
   ],
   "source": [
    "page_base = \"https://navbharattimes.indiatimes.com/movie-masti/movie-review/articlelist/2325387.cms?curpg=\"\n",
    "for i in range(1,66):\n",
    "    page_link = page_base+str(i)\n",
    "    print(page_link)\n",
    "    getallpages(page_link)\n",
    "    print(len(MovieNames))"
   ]
  },
  {
   "cell_type": "code",
   "execution_count": 84,
   "metadata": {},
   "outputs": [],
   "source": [
    "DataBase = pd.DataFrame({\n",
    "    \"MovieNames\": MovieNames,\n",
    "    \"MovieReviews\": MovieReviews,\n",
    "    \"MovieRatingCritic\": MovieRatingCritic,\n",
    "    \"MovieRatingReader\":MovieRatingReader\n",
    "})"
   ]
  },
  {
   "cell_type": "code",
   "execution_count": 86,
   "metadata": {},
   "outputs": [
    {
     "data": {
      "text/html": [
       "<div>\n",
       "<style scoped>\n",
       "    .dataframe tbody tr th:only-of-type {\n",
       "        vertical-align: middle;\n",
       "    }\n",
       "\n",
       "    .dataframe tbody tr th {\n",
       "        vertical-align: top;\n",
       "    }\n",
       "\n",
       "    .dataframe thead th {\n",
       "        text-align: right;\n",
       "    }\n",
       "</style>\n",
       "<table border=\"1\" class=\"dataframe\">\n",
       "  <thead>\n",
       "    <tr style=\"text-align: right;\">\n",
       "      <th></th>\n",
       "      <th>MovieNames</th>\n",
       "      <th>MovieReviews</th>\n",
       "      <th>MovieRatingCritic</th>\n",
       "      <th>MovieRatingReader</th>\n",
       "    </tr>\n",
       "  </thead>\n",
       "  <tbody>\n",
       "    <tr>\n",
       "      <th>0</th>\n",
       "      <td>अंग्रेजी मीडियम</td>\n",
       "      <td>इरफान खान की वापसी का फैन्स को बेसब्री से इंतज...</td>\n",
       "      <td>3.5/5</td>\n",
       "      <td>3.5/5</td>\n",
       "    </tr>\n",
       "    <tr>\n",
       "      <th>1</th>\n",
       "      <td>बागी 3</td>\n",
       "      <td>यह सच है कि हिंदी फिल्मों में ऐक्शन की तूती बो...</td>\n",
       "      <td>2.5/5</td>\n",
       "      <td>2.5/5</td>\n",
       "    </tr>\n",
       "    <tr>\n",
       "      <th>2</th>\n",
       "      <td>कामयाब</td>\n",
       "      <td>हीरो, हिरोइन और विलेन के बगैर हिंदी फिल्म की क...</td>\n",
       "      <td>3.5/5</td>\n",
       "      <td>3.5/5</td>\n",
       "    </tr>\n",
       "    <tr>\n",
       "      <th>3</th>\n",
       "      <td>दूरदर्शन</td>\n",
       "      <td>निर्देशक गगनपुरी ने 'दूरदर्शन' के रूप में कॉमि...</td>\n",
       "      <td>2.0/5</td>\n",
       "      <td>2.5/5</td>\n",
       "    </tr>\n",
       "    <tr>\n",
       "      <th>4</th>\n",
       "      <td>थप्पड़</td>\n",
       "      <td>बस एक थप्पड़ ही तो था। क्या करूं? हो गया ना। ज...</td>\n",
       "      <td>4.5/5</td>\n",
       "      <td>4/5</td>\n",
       "    </tr>\n",
       "  </tbody>\n",
       "</table>\n",
       "</div>"
      ],
      "text/plain": [
       "         MovieNames                                       MovieReviews  \\\n",
       "0  अंग्रेजी मीडियम   इरफान खान की वापसी का फैन्स को बेसब्री से इंतज...   \n",
       "1           बागी 3   यह सच है कि हिंदी फिल्मों में ऐक्शन की तूती बो...   \n",
       "2           कामयाब   हीरो, हिरोइन और विलेन के बगैर हिंदी फिल्म की क...   \n",
       "3         दूरदर्शन   निर्देशक गगनपुरी ने 'दूरदर्शन' के रूप में कॉमि...   \n",
       "4           थप्पड़   बस एक थप्पड़ ही तो था। क्या करूं? हो गया ना। ज...   \n",
       "\n",
       "  MovieRatingCritic MovieRatingReader  \n",
       "0             3.5/5             3.5/5  \n",
       "1             2.5/5             2.5/5  \n",
       "2             3.5/5             3.5/5  \n",
       "3             2.0/5             2.5/5  \n",
       "4             4.5/5               4/5  "
      ]
     },
     "execution_count": 86,
     "metadata": {},
     "output_type": "execute_result"
    }
   ],
   "source": [
    "DataBase.head()"
   ]
  },
  {
   "cell_type": "code",
   "execution_count": 82,
   "metadata": {},
   "outputs": [
    {
     "data": {
      "text/plain": [
       "'अंग्रेजी मीडियम '"
      ]
     },
     "execution_count": 82,
     "metadata": {},
     "output_type": "execute_result"
    }
   ],
   "source": [
    "MovieNames[0]"
   ]
  },
  {
   "cell_type": "code",
   "execution_count": 83,
   "metadata": {},
   "outputs": [
    {
     "data": {
      "text/plain": [
       "\"इरफान खान की वापसी का फैन्स को बेसब्री से इंतजार था। जाहिर है, कैंसर जैसी जानलेवा बीमारी से क्योर होकर इरफान ने जबसे इस फिल्म की शूटिंग शुरू की थी, तभी से उनके चाहनेवाले फिल्म की बाट जोह रहे थे। इसमें कोई दो राय नहीं कि इरफान ने अपने फैन्स को इस फिल्म में उम्मीद से ज्यादा दिया और एक बार फिर यह साबित कर दिखाया कि उन्हें इस दौर का समर्थ और एफर्टलेस अभिनेता क्यों कहा जाता है।इरफान की 'अंग्रेजी मीडियम' कैसी फिल्म है, देखिए रिव्यूXकहानी है उदयपुर में बसनेवाले चंपक बंसल (इरफान खान) की, जो जानेमाने घसीटाराम मिठाईवाले के पोते के रूप में मिठाई की दुकान चलाता है। बीवी के इंतकाल के बाद उसकी दुनिया अपनी बेटी तारिका (राधिका मदान) के इर्द-गिर्द ही घूमती है। बेटी का बचपन से सपना है कि वह लंदन पढ़ने जाए। बेटी को पालने-पोसने और मिठाई की दुकान चलाने के साथ-साथ उसे अपने दूसरे घसीटाराम भाई-बंधुओं के साथ अदालत में नाम और संपत्ति के मुकदमे भी लड़ने पड़ते हैं। इन मुकदमों में उसका कजिन भाई गोपी (दीपक डोबरियाल) उसके जी का जंजाल बना हुआ है। तारिका ग्रैजुएट होने के साथ लंदन जाने के अपने सपने को पूरा करने के लिए कॉलेज की टॉपर बनने के लिए कमर कस लेती है।इरफान खान की फिल्म 'अंग्रेजी मीडियम' का ट्रेलर रिलीज़Xआखिरकार वह दिन भी आ जाता है, जब तारिका को आगे की पढ़ाई के लिए लंदन जाने का मौका मिल जाता है। अपनी बेटी को बेइंतहा प्यार करनेवाला पजेसिव पिता चंपक तारिका के ख्वाबों को हकीकत का जामा पहनाने के लिए उसके साथ चल पड़ता है। इस सफर में गोपी भी उसका साथ देता है, मगर लंदन पहुंचने के बाद हालात कुछ ऐसे बनते हैं, जिनके बारे में चंपक और गोपी ने सोचा भी नहीं था। यहां देखें- 'अंग्रेजी मीडियम' का गाना 'एक जिंदगी'Xअंग्रेजी मीडियम से पहले आई इरफान खान की हिंदी मीडियम में निर्देशक साकेत चौधरी ने भाषा के स्तर पर बंटे हुए समाज के प्रासंगिक विषय को छुआ था, यहां निर्देशक होमी अदजानिया कुछ कदम आगे बढ़कर यंग जनरेशन के जरिए विदेशों के आकर्षण के साथ-साथ बाप-बेटी के रिश्ते की पड़ताल भी करते नजर आते हैं। फिल्म का फर्स्ट हाफ बहुत ही मनोरंजक और कसा हुआ है, मगर सेकंड हाफ में कहानी ड्रैग होने लगती है। मध्यांतर के बाद कई ट्रैक्स और चरित्रों की एंट्री होती है। क्लाइमैक्स थोड़ा नाटकीय है, जिसका अंदाजा पहले ही हो जाता है। मगर होमी की खूबी यह है कि कॉमिक एलिमेंट के बावजूद फिल्म को उन्होंने लाउड होने से बचाए रखा। छोटे शहर की मानसिकता, बोलचाल और पहनावे को उन्होंने किरदारों के साथ खूबसूरती से बुना है। सचिन-जिगर और तनिष्क बागची का संगीत औसत है।रिलीज हुआ 'अंग्रेजी मीडियम' का नया गाना 'लड़की'Xजितने समय तक इरफान परदे पर रहते हैं, अपने बॉडी लैंग्वेज, कमाल की कॉमिक टाइमिंग, अपने उदयपुरी एक्सेंट और जज्बाती दृश्यों से आपको बांधे रखते है। उनकी अभिनय अदायगी इतनी लाजवाब है कि आपको अहसास ही नहीं होता कि कैंसर जैसी बीमारी से रिकवर होते हुए उन्होंने यह फिल्म शूट की होगी। पिता के रूप में उनके कुछ दृश्य आंखें नम कर जाते हैं। बेटी के तौर पर राधिका मदान ने इरफान को हर तरह से कॉमप्लिमेंट किया है। एक बागी, मासूम, सपने देखनेवाली और पिता को प्यार करनेवाली राधिका की भूमिका में कई परतें हैं, हर परत को उन्होंने ईमानदारी से निभाया है। पिता-पुत्री के रूप में उनकी केमिस्ट्री खूब जमी है, तो भाई के रूप में दीपक डोबरियाल ने इरफान के साथ दमदार जुगलबंदी पेश की है। अपने किरदार के जरिए वे खूब मजे करवाते हैं। अपनी दमदार स्क्रीन प्रजेंस से करीना आते ही परदे पर छा जाती हैं, मगर दो -चार दृश्यों में उन्हें वेस्ट कर दिया गया है। पंकज त्रिपाठी छोटे-से रोल में याद रह जाते हैं। सहयोगी भूमिकाओं में डिंपल कपाड़िया, तिलोत्तमा शोम, रनवीर शौरी, कीकू शारदा आदि ने अपना पार्ट मजेदार तरीके से निभाया है।क्यों देखें: इरफान की कमबैक वाली इस फिल्म को दमदार अभिनय और मनोरंजन के कारण एक बार देखना तो बनता है।\""
      ]
     },
     "execution_count": 83,
     "metadata": {},
     "output_type": "execute_result"
    }
   ],
   "source": [
    "MovieReviews[0]"
   ]
  },
  {
   "cell_type": "code",
   "execution_count": 87,
   "metadata": {},
   "outputs": [],
   "source": [
    "DataBase.to_csv('NavBharat_all_pages_2.csv',index=False)"
   ]
  },
  {
   "cell_type": "code",
   "execution_count": 24,
   "metadata": {},
   "outputs": [
    {
     "name": "stdout",
     "output_type": "stream",
     "text": [
      "coudn't do this movie\n"
     ]
    }
   ],
   "source": [
    "getallpages(\"https://navbharattimes.indiatimes.com/movie-masti/movie-review/articlelist/2325387.cms?curpg=28\")"
   ]
  },
  {
   "cell_type": "code",
   "execution_count": 88,
   "metadata": {},
   "outputs": [
    {
     "data": {
      "text/plain": [
       "(1229, 1229)"
      ]
     },
     "execution_count": 88,
     "metadata": {},
     "output_type": "execute_result"
    }
   ],
   "source": [
    "len(MovieNames), len(MovieReviews)"
   ]
  },
  {
   "cell_type": "code",
   "execution_count": 51,
   "metadata": {},
   "outputs": [],
   "source": [
    "# MovieNames=MovieNames[:599]\n",
    "# MovieReviews=MovieNames[:599]\n",
    "# MovieRatingCritic=MovieRatingCritic[:599]\n",
    "# MovieRatingReader=MovieRatingReader[:599]"
   ]
  },
  {
   "cell_type": "code",
   "execution_count": 94,
   "metadata": {},
   "outputs": [
    {
     "data": {
      "text/plain": [
       "'�'"
      ]
     },
     "execution_count": 94,
     "metadata": {},
     "output_type": "execute_result"
    }
   ],
   "source": [
    "MovieReviews[1053][0]"
   ]
  },
  {
   "cell_type": "code",
   "execution_count": null,
   "metadata": {},
   "outputs": [],
   "source": []
  }
 ],
 "metadata": {
  "kernelspec": {
   "display_name": "Python 3",
   "language": "python",
   "name": "python3"
  },
  "language_info": {
   "codemirror_mode": {
    "name": "ipython",
    "version": 3
   },
   "file_extension": ".py",
   "mimetype": "text/x-python",
   "name": "python",
   "nbconvert_exporter": "python",
   "pygments_lexer": "ipython3",
   "version": "3.6.9"
  }
 },
 "nbformat": 4,
 "nbformat_minor": 2
}
