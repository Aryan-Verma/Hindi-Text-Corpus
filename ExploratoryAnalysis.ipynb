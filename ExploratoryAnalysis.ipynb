{
 "cells": [
  {
   "cell_type": "code",
   "execution_count": 1,
   "metadata": {},
   "outputs": [],
   "source": [
    "import pandas as pd\n",
    "import numpy as np\n",
    "import matplotlib.pyplot as plt\n",
    "import seaborn as sns"
   ]
  },
  {
   "cell_type": "code",
   "execution_count": 66,
   "metadata": {},
   "outputs": [],
   "source": [
    "df_prime = pd.read_csv('Datasets/8_Final_dataset_3.0.csv')"
   ]
  },
  {
   "cell_type": "code",
   "execution_count": 10,
   "metadata": {},
   "outputs": [],
   "source": [
    "df = pd.read_csv('Datasets/8_Final_dataset_3.0.csv')"
   ]
  },
  {
   "cell_type": "code",
   "execution_count": 48,
   "metadata": {},
   "outputs": [],
   "source": [
    "def fn(x):\n",
    "    if(x==1):\n",
    "        return 'positive'\n",
    "    else:\n",
    "        return 'negative'\n",
    "        \n",
    "\n",
    "df['Sentiment']=df['Sentiment'].apply(lambda x: fn(x))"
   ]
  },
  {
   "cell_type": "code",
   "execution_count": 49,
   "metadata": {},
   "outputs": [
    {
     "data": {
      "text/html": [
       "<div>\n",
       "<style scoped>\n",
       "    .dataframe tbody tr th:only-of-type {\n",
       "        vertical-align: middle;\n",
       "    }\n",
       "\n",
       "    .dataframe tbody tr th {\n",
       "        vertical-align: top;\n",
       "    }\n",
       "\n",
       "    .dataframe thead th {\n",
       "        text-align: right;\n",
       "    }\n",
       "</style>\n",
       "<table border=\"1\" class=\"dataframe\">\n",
       "  <thead>\n",
       "    <tr style=\"text-align: right;\">\n",
       "      <th></th>\n",
       "      <th>Review</th>\n",
       "      <th>Sentiment</th>\n",
       "      <th>ReviewLen</th>\n",
       "      <th>WordCount</th>\n",
       "    </tr>\n",
       "  </thead>\n",
       "  <tbody>\n",
       "    <tr>\n",
       "      <th>0</th>\n",
       "      <td>हीरो डबल रोल वाली फिल्में पिछले अरसे कईं रिलीज...</td>\n",
       "      <td>positive</td>\n",
       "      <td>2662</td>\n",
       "      <td>476</td>\n",
       "    </tr>\n",
       "    <tr>\n",
       "      <th>1</th>\n",
       "      <td>होम फिल्म समीक्षा अक्षय बिना अधूरी सी वेलकम बै...</td>\n",
       "      <td>negative</td>\n",
       "      <td>2235</td>\n",
       "      <td>401</td>\n",
       "    </tr>\n",
       "    <tr>\n",
       "      <th>2</th>\n",
       "      <td>'मैं मां हूं मां कोई सपने होते।' अश्विनी अय्यर...</td>\n",
       "      <td>positive</td>\n",
       "      <td>2697</td>\n",
       "      <td>473</td>\n",
       "    </tr>\n",
       "    <tr>\n",
       "      <th>3</th>\n",
       "      <td>चंद्रमोहन शर्मा आमतौर दिवाली पहले वीक ऐसी फिल्...</td>\n",
       "      <td>negative</td>\n",
       "      <td>1752</td>\n",
       "      <td>303</td>\n",
       "    </tr>\n",
       "    <tr>\n",
       "      <th>4</th>\n",
       "      <td>-अजय ब्रह्मात्मज कलाकार: नीलिमा अजीम, ईशान कौर...</td>\n",
       "      <td>positive</td>\n",
       "      <td>1658</td>\n",
       "      <td>282</td>\n",
       "    </tr>\n",
       "    <tr>\n",
       "      <th>...</th>\n",
       "      <td>...</td>\n",
       "      <td>...</td>\n",
       "      <td>...</td>\n",
       "      <td>...</td>\n",
       "    </tr>\n",
       "    <tr>\n",
       "      <th>1709</th>\n",
       "      <td>रेटिंगः 2 स्टारकलाकारः मनीष पॉल, पीयूष मिश्र, ...</td>\n",
       "      <td>negative</td>\n",
       "      <td>2058</td>\n",
       "      <td>367</td>\n",
       "    </tr>\n",
       "    <tr>\n",
       "      <th>1710</th>\n",
       "      <td>सारा मसला ख्वाहिशों है... फिल्म शुरुआत खिलजी ड...</td>\n",
       "      <td>positive</td>\n",
       "      <td>3514</td>\n",
       "      <td>616</td>\n",
       "    </tr>\n",
       "    <tr>\n",
       "      <th>1711</th>\n",
       "      <td>चंद्रमोहन शर्मा यशराज कैंप फिल्म अस्सी-नब्बे द...</td>\n",
       "      <td>positive</td>\n",
       "      <td>3252</td>\n",
       "      <td>583</td>\n",
       "    </tr>\n",
       "    <tr>\n",
       "      <th>1712</th>\n",
       "      <td>जेम्स वान मूल फिल्म असाधारण बनाया था। इसके बाद...</td>\n",
       "      <td>positive</td>\n",
       "      <td>949</td>\n",
       "      <td>172</td>\n",
       "    </tr>\n",
       "    <tr>\n",
       "      <th>1713</th>\n",
       "      <td>आज उसी कदर बरकरार डायरेक्टर अब्बास मस्तान बर्म...</td>\n",
       "      <td>negative</td>\n",
       "      <td>3018</td>\n",
       "      <td>528</td>\n",
       "    </tr>\n",
       "  </tbody>\n",
       "</table>\n",
       "<p>1714 rows × 4 columns</p>\n",
       "</div>"
      ],
      "text/plain": [
       "                                                 Review Sentiment  ReviewLen  \\\n",
       "0     हीरो डबल रोल वाली फिल्में पिछले अरसे कईं रिलीज...  positive       2662   \n",
       "1     होम फिल्म समीक्षा अक्षय बिना अधूरी सी वेलकम बै...  negative       2235   \n",
       "2     'मैं मां हूं मां कोई सपने होते।' अश्विनी अय्यर...  positive       2697   \n",
       "3     चंद्रमोहन शर्मा आमतौर दिवाली पहले वीक ऐसी फिल्...  negative       1752   \n",
       "4     -अजय ब्रह्मात्मज कलाकार: नीलिमा अजीम, ईशान कौर...  positive       1658   \n",
       "...                                                 ...       ...        ...   \n",
       "1709  रेटिंगः 2 स्टारकलाकारः मनीष पॉल, पीयूष मिश्र, ...  negative       2058   \n",
       "1710  सारा मसला ख्वाहिशों है... फिल्म शुरुआत खिलजी ड...  positive       3514   \n",
       "1711  चंद्रमोहन शर्मा यशराज कैंप फिल्म अस्सी-नब्बे द...  positive       3252   \n",
       "1712  जेम्स वान मूल फिल्म असाधारण बनाया था। इसके बाद...  positive        949   \n",
       "1713  आज उसी कदर बरकरार डायरेक्टर अब्बास मस्तान बर्म...  negative       3018   \n",
       "\n",
       "      WordCount  \n",
       "0           476  \n",
       "1           401  \n",
       "2           473  \n",
       "3           303  \n",
       "4           282  \n",
       "...         ...  \n",
       "1709        367  \n",
       "1710        616  \n",
       "1711        583  \n",
       "1712        172  \n",
       "1713        528  \n",
       "\n",
       "[1714 rows x 4 columns]"
      ]
     },
     "execution_count": 49,
     "metadata": {},
     "output_type": "execute_result"
    }
   ],
   "source": [
    "df"
   ]
  },
  {
   "cell_type": "code",
   "execution_count": 50,
   "metadata": {},
   "outputs": [],
   "source": [
    "positive = (df['Sentiment'].values == 'positive').sum()\n",
    "negative = (df['Sentiment'].values == 'negative').sum()"
   ]
  },
  {
   "cell_type": "markdown",
   "metadata": {},
   "source": [
    "# PieChart of sentiment distribution"
   ]
  },
  {
   "cell_type": "code",
   "execution_count": 51,
   "metadata": {},
   "outputs": [
    {
     "data": {
      "image/png": "[encoded data removed]",
      "text/plain": [
       "<Figure size 432x288 with 1 Axes>"
      ]
     },
     "metadata": {},
     "output_type": "display_data"
    }
   ],
   "source": [
    "sizes = [positive, negative]\n",
    "labels = ['Positive', 'Negative']\n",
    "plt.title('Sentiment Distribution')\n",
    "plt.pie(sizes,labels=labels, autopct='%1.1f%%',startangle=90,shadow=True)\n",
    "plt.show()"
   ]
  },
  {
   "cell_type": "markdown",
   "metadata": {},
   "source": [
    "# Word Count and Review Length"
   ]
  },
  {
   "cell_type": "code",
   "execution_count": 52,
   "metadata": {},
   "outputs": [],
   "source": [
    "df['WordCount'] = df['Review'].apply(lambda x: len(x.split()))"
   ]
  },
  {
   "cell_type": "code",
   "execution_count": 53,
   "metadata": {},
   "outputs": [],
   "source": [
    "df['ReviewLen'] = df['Review'].apply(len)"
   ]
  },
  {
   "cell_type": "code",
   "execution_count": 54,
   "metadata": {},
   "outputs": [
    {
     "data": {
      "text/html": [
       "<div>\n",
       "<style scoped>\n",
       "    .dataframe tbody tr th:only-of-type {\n",
       "        vertical-align: middle;\n",
       "    }\n",
       "\n",
       "    .dataframe tbody tr th {\n",
       "        vertical-align: top;\n",
       "    }\n",
       "\n",
       "    .dataframe thead th {\n",
       "        text-align: right;\n",
       "    }\n",
       "</style>\n",
       "<table border=\"1\" class=\"dataframe\">\n",
       "  <thead>\n",
       "    <tr style=\"text-align: right;\">\n",
       "      <th></th>\n",
       "      <th>Review</th>\n",
       "      <th>Sentiment</th>\n",
       "      <th>ReviewLen</th>\n",
       "      <th>WordCount</th>\n",
       "    </tr>\n",
       "  </thead>\n",
       "  <tbody>\n",
       "    <tr>\n",
       "      <th>0</th>\n",
       "      <td>हीरो डबल रोल वाली फिल्में पिछले अरसे कईं रिलीज...</td>\n",
       "      <td>positive</td>\n",
       "      <td>2662</td>\n",
       "      <td>476</td>\n",
       "    </tr>\n",
       "    <tr>\n",
       "      <th>1</th>\n",
       "      <td>होम फिल्म समीक्षा अक्षय बिना अधूरी सी वेलकम बै...</td>\n",
       "      <td>negative</td>\n",
       "      <td>2235</td>\n",
       "      <td>401</td>\n",
       "    </tr>\n",
       "    <tr>\n",
       "      <th>2</th>\n",
       "      <td>'मैं मां हूं मां कोई सपने होते।' अश्विनी अय्यर...</td>\n",
       "      <td>positive</td>\n",
       "      <td>2697</td>\n",
       "      <td>473</td>\n",
       "    </tr>\n",
       "    <tr>\n",
       "      <th>3</th>\n",
       "      <td>चंद्रमोहन शर्मा आमतौर दिवाली पहले वीक ऐसी फिल्...</td>\n",
       "      <td>negative</td>\n",
       "      <td>1752</td>\n",
       "      <td>303</td>\n",
       "    </tr>\n",
       "    <tr>\n",
       "      <th>4</th>\n",
       "      <td>-अजय ब्रह्मात्मज कलाकार: नीलिमा अजीम, ईशान कौर...</td>\n",
       "      <td>positive</td>\n",
       "      <td>1658</td>\n",
       "      <td>282</td>\n",
       "    </tr>\n",
       "    <tr>\n",
       "      <th>...</th>\n",
       "      <td>...</td>\n",
       "      <td>...</td>\n",
       "      <td>...</td>\n",
       "      <td>...</td>\n",
       "    </tr>\n",
       "    <tr>\n",
       "      <th>1709</th>\n",
       "      <td>रेटिंगः 2 स्टारकलाकारः मनीष पॉल, पीयूष मिश्र, ...</td>\n",
       "      <td>negative</td>\n",
       "      <td>2058</td>\n",
       "      <td>367</td>\n",
       "    </tr>\n",
       "    <tr>\n",
       "      <th>1710</th>\n",
       "      <td>सारा मसला ख्वाहिशों है... फिल्म शुरुआत खिलजी ड...</td>\n",
       "      <td>positive</td>\n",
       "      <td>3514</td>\n",
       "      <td>616</td>\n",
       "    </tr>\n",
       "    <tr>\n",
       "      <th>1711</th>\n",
       "      <td>चंद्रमोहन शर्मा यशराज कैंप फिल्म अस्सी-नब्बे द...</td>\n",
       "      <td>positive</td>\n",
       "      <td>3252</td>\n",
       "      <td>583</td>\n",
       "    </tr>\n",
       "    <tr>\n",
       "      <th>1712</th>\n",
       "      <td>जेम्स वान मूल फिल्म असाधारण बनाया था। इसके बाद...</td>\n",
       "      <td>positive</td>\n",
       "      <td>949</td>\n",
       "      <td>172</td>\n",
       "    </tr>\n",
       "    <tr>\n",
       "      <th>1713</th>\n",
       "      <td>आज उसी कदर बरकरार डायरेक्टर अब्बास मस्तान बर्म...</td>\n",
       "      <td>negative</td>\n",
       "      <td>3018</td>\n",
       "      <td>528</td>\n",
       "    </tr>\n",
       "  </tbody>\n",
       "</table>\n",
       "<p>1714 rows × 4 columns</p>\n",
       "</div>"
      ],
      "text/plain": [
       "                                                 Review Sentiment  ReviewLen  \\\n",
       "0     हीरो डबल रोल वाली फिल्में पिछले अरसे कईं रिलीज...  positive       2662   \n",
       "1     होम फिल्म समीक्षा अक्षय बिना अधूरी सी वेलकम बै...  negative       2235   \n",
       "2     'मैं मां हूं मां कोई सपने होते।' अश्विनी अय्यर...  positive       2697   \n",
       "3     चंद्रमोहन शर्मा आमतौर दिवाली पहले वीक ऐसी फिल्...  negative       1752   \n",
       "4     -अजय ब्रह्मात्मज कलाकार: नीलिमा अजीम, ईशान कौर...  positive       1658   \n",
       "...                                                 ...       ...        ...   \n",
       "1709  रेटिंगः 2 स्टारकलाकारः मनीष पॉल, पीयूष मिश्र, ...  negative       2058   \n",
       "1710  सारा मसला ख्वाहिशों है... फिल्म शुरुआत खिलजी ड...  positive       3514   \n",
       "1711  चंद्रमोहन शर्मा यशराज कैंप फिल्म अस्सी-नब्बे द...  positive       3252   \n",
       "1712  जेम्स वान मूल फिल्म असाधारण बनाया था। इसके बाद...  positive        949   \n",
       "1713  आज उसी कदर बरकरार डायरेक्टर अब्बास मस्तान बर्म...  negative       3018   \n",
       "\n",
       "      WordCount  \n",
       "0           476  \n",
       "1           401  \n",
       "2           473  \n",
       "3           303  \n",
       "4           282  \n",
       "...         ...  \n",
       "1709        367  \n",
       "1710        616  \n",
       "1711        583  \n",
       "1712        172  \n",
       "1713        528  \n",
       "\n",
       "[1714 rows x 4 columns]"
      ]
     },
     "execution_count": 54,
     "metadata": {},
     "output_type": "execute_result"
    }
   ],
   "source": [
    "df"
   ]
  },
  {
   "cell_type": "markdown",
   "metadata": {},
   "source": [
    "# Review Length Plot"
   ]
  },
  {
   "cell_type": "code",
   "execution_count": 64,
   "metadata": {},
   "outputs": [
    {
     "data": {
      "image/png": "[encoded data removed]",
      "text/plain": [
       "<Figure size 432x288 with 1 Axes>"
      ]
     },
     "metadata": {
      "needs_background": "light"
     },
     "output_type": "display_data"
    }
   ],
   "source": [
    "df.groupby('Sentiment')['ReviewLen'].mean().plot(kind='bar', rot=1)\n",
    "plt.xlabel('Sentiment')\n",
    "plt.ylabel('Average length of reviews')\n",
    "plt.title('Distribution of length of reviews')\n",
    "plt.show()"
   ]
  },
  {
   "cell_type": "markdown",
   "metadata": {},
   "source": [
    "# Word Count Plot"
   ]
  },
  {
   "cell_type": "code",
   "execution_count": 65,
   "metadata": {},
   "outputs": [
    {
     "data": {
      "image/png": "[encoded data removed]",
      "text/plain": [
       "<Figure size 432x288 with 1 Axes>"
      ]
     },
     "metadata": {
      "needs_background": "light"
     },
     "output_type": "display_data"
    }
   ],
   "source": [
    "df.groupby('Sentiment')['WordCount'].mean().plot(kind='bar', rot=1)\n",
    "plt.xlabel('Sentiment')\n",
    "plt.ylabel('Average number of words in review')\n",
    "plt.title('Distribution of number of words')\n",
    "plt.show()"
   ]
  },
  {
   "cell_type": "markdown",
   "metadata": {},
   "source": [
    "# Heat map"
   ]
  },
  {
   "cell_type": "code",
   "execution_count": 68,
   "metadata": {},
   "outputs": [],
   "source": [
    "df_prime['WordCount'] = df_prime['Review'].apply(lambda x: len(x.split()))\n",
    "df_prime['ReviewLen'] = df_prime['Review'].apply(len)"
   ]
  },
  {
   "cell_type": "code",
   "execution_count": 70,
   "metadata": {},
   "outputs": [
    {
     "data": {
      "text/html": [
       "<div>\n",
       "<style scoped>\n",
       "    .dataframe tbody tr th:only-of-type {\n",
       "        vertical-align: middle;\n",
       "    }\n",
       "\n",
       "    .dataframe tbody tr th {\n",
       "        vertical-align: top;\n",
       "    }\n",
       "\n",
       "    .dataframe thead th {\n",
       "        text-align: right;\n",
       "    }\n",
       "</style>\n",
       "<table border=\"1\" class=\"dataframe\">\n",
       "  <thead>\n",
       "    <tr style=\"text-align: right;\">\n",
       "      <th></th>\n",
       "      <th>Review</th>\n",
       "      <th>Sentiment</th>\n",
       "      <th>WordCount</th>\n",
       "      <th>ReviewLen</th>\n",
       "    </tr>\n",
       "  </thead>\n",
       "  <tbody>\n",
       "    <tr>\n",
       "      <th>0</th>\n",
       "      <td>हीरो डबल रोल वाली फिल्में पिछले अरसे कईं रिलीज...</td>\n",
       "      <td>1</td>\n",
       "      <td>476</td>\n",
       "      <td>2662</td>\n",
       "    </tr>\n",
       "    <tr>\n",
       "      <th>1</th>\n",
       "      <td>होम फिल्म समीक्षा अक्षय बिना अधूरी सी वेलकम बै...</td>\n",
       "      <td>0</td>\n",
       "      <td>401</td>\n",
       "      <td>2235</td>\n",
       "    </tr>\n",
       "    <tr>\n",
       "      <th>2</th>\n",
       "      <td>'मैं मां हूं मां कोई सपने होते।' अश्विनी अय्यर...</td>\n",
       "      <td>1</td>\n",
       "      <td>473</td>\n",
       "      <td>2697</td>\n",
       "    </tr>\n",
       "    <tr>\n",
       "      <th>3</th>\n",
       "      <td>चंद्रमोहन शर्मा आमतौर दिवाली पहले वीक ऐसी फिल्...</td>\n",
       "      <td>0</td>\n",
       "      <td>303</td>\n",
       "      <td>1752</td>\n",
       "    </tr>\n",
       "    <tr>\n",
       "      <th>4</th>\n",
       "      <td>-अजय ब्रह्मात्मज कलाकार: नीलिमा अजीम, ईशान कौर...</td>\n",
       "      <td>1</td>\n",
       "      <td>282</td>\n",
       "      <td>1658</td>\n",
       "    </tr>\n",
       "    <tr>\n",
       "      <th>...</th>\n",
       "      <td>...</td>\n",
       "      <td>...</td>\n",
       "      <td>...</td>\n",
       "      <td>...</td>\n",
       "    </tr>\n",
       "    <tr>\n",
       "      <th>1709</th>\n",
       "      <td>रेटिंगः 2 स्टारकलाकारः मनीष पॉल, पीयूष मिश्र, ...</td>\n",
       "      <td>0</td>\n",
       "      <td>367</td>\n",
       "      <td>2058</td>\n",
       "    </tr>\n",
       "    <tr>\n",
       "      <th>1710</th>\n",
       "      <td>सारा मसला ख्वाहिशों है... फिल्म शुरुआत खिलजी ड...</td>\n",
       "      <td>1</td>\n",
       "      <td>616</td>\n",
       "      <td>3514</td>\n",
       "    </tr>\n",
       "    <tr>\n",
       "      <th>1711</th>\n",
       "      <td>चंद्रमोहन शर्मा यशराज कैंप फिल्म अस्सी-नब्बे द...</td>\n",
       "      <td>1</td>\n",
       "      <td>583</td>\n",
       "      <td>3252</td>\n",
       "    </tr>\n",
       "    <tr>\n",
       "      <th>1712</th>\n",
       "      <td>जेम्स वान मूल फिल्म असाधारण बनाया था। इसके बाद...</td>\n",
       "      <td>1</td>\n",
       "      <td>172</td>\n",
       "      <td>949</td>\n",
       "    </tr>\n",
       "    <tr>\n",
       "      <th>1713</th>\n",
       "      <td>आज उसी कदर बरकरार डायरेक्टर अब्बास मस्तान बर्म...</td>\n",
       "      <td>0</td>\n",
       "      <td>528</td>\n",
       "      <td>3018</td>\n",
       "    </tr>\n",
       "  </tbody>\n",
       "</table>\n",
       "<p>1714 rows × 4 columns</p>\n",
       "</div>"
      ],
      "text/plain": [
       "                                                 Review  Sentiment  WordCount  \\\n",
       "0     हीरो डबल रोल वाली फिल्में पिछले अरसे कईं रिलीज...          1        476   \n",
       "1     होम फिल्म समीक्षा अक्षय बिना अधूरी सी वेलकम बै...          0        401   \n",
       "2     'मैं मां हूं मां कोई सपने होते।' अश्विनी अय्यर...          1        473   \n",
       "3     चंद्रमोहन शर्मा आमतौर दिवाली पहले वीक ऐसी फिल्...          0        303   \n",
       "4     -अजय ब्रह्मात्मज कलाकार: नीलिमा अजीम, ईशान कौर...          1        282   \n",
       "...                                                 ...        ...        ...   \n",
       "1709  रेटिंगः 2 स्टारकलाकारः मनीष पॉल, पीयूष मिश्र, ...          0        367   \n",
       "1710  सारा मसला ख्वाहिशों है... फिल्म शुरुआत खिलजी ड...          1        616   \n",
       "1711  चंद्रमोहन शर्मा यशराज कैंप फिल्म अस्सी-नब्बे द...          1        583   \n",
       "1712  जेम्स वान मूल फिल्म असाधारण बनाया था। इसके बाद...          1        172   \n",
       "1713  आज उसी कदर बरकरार डायरेक्टर अब्बास मस्तान बर्म...          0        528   \n",
       "\n",
       "      ReviewLen  \n",
       "0          2662  \n",
       "1          2235  \n",
       "2          2697  \n",
       "3          1752  \n",
       "4          1658  \n",
       "...         ...  \n",
       "1709       2058  \n",
       "1710       3514  \n",
       "1711       3252  \n",
       "1712        949  \n",
       "1713       3018  \n",
       "\n",
       "[1714 rows x 4 columns]"
      ]
     },
     "execution_count": 70,
     "metadata": {},
     "output_type": "execute_result"
    }
   ],
   "source": [
    "df_prime"
   ]
  },
  {
   "cell_type": "code",
   "execution_count": 80,
   "metadata": {},
   "outputs": [
    {
     "data": {
      "text/plain": [
       "(array([0. , 0.2, 0.4, 0.6, 0.8, 1. ]), <a list of 6 Text yticklabel objects>)"
      ]
     },
     "execution_count": 80,
     "metadata": {},
     "output_type": "execute_result"
    },
    {
     "data": {
      "image/png": "[encoded data removed]",
      "text/plain": [
       "<Figure size 3600x2160 with 1 Axes>"
      ]
     },
     "metadata": {
      "needs_background": "light"
     },
     "output_type": "display_data"
    }
   ],
   "source": [
    "correlation = df_prime[['Sentiment', 'ReviewLen', 'WordCount']].corr()\n",
    "mask = np.zeros_like(correlation, dtype=np.bool)\n",
    "mask[np.triu_indices_from(mask)] = True\n",
    "plt.figure(figsize=(50,30))\n",
    "plt.xticks(fontsize=40)\n",
    "plt.yticks(fontsize=40)\n",
    "# sns.heatmap(correlation, cmap='coolwarm', annot=True, annot_kws=(\"size\":40), linewidths=10,vmin=-1.5, mask=mask)"
   ]
  },
  {
   "cell_type": "code",
   "execution_count": 76,
   "metadata": {},
   "outputs": [
    {
     "data": {
      "text/html": [
       "<div>\n",
       "<style scoped>\n",
       "    .dataframe tbody tr th:only-of-type {\n",
       "        vertical-align: middle;\n",
       "    }\n",
       "\n",
       "    .dataframe tbody tr th {\n",
       "        vertical-align: top;\n",
       "    }\n",
       "\n",
       "    .dataframe thead th {\n",
       "        text-align: right;\n",
       "    }\n",
       "</style>\n",
       "<table border=\"1\" class=\"dataframe\">\n",
       "  <thead>\n",
       "    <tr style=\"text-align: right;\">\n",
       "      <th></th>\n",
       "      <th>Sentiment</th>\n",
       "      <th>ReviewLen</th>\n",
       "      <th>WordCount</th>\n",
       "    </tr>\n",
       "  </thead>\n",
       "  <tbody>\n",
       "    <tr>\n",
       "      <th>Sentiment</th>\n",
       "      <td>1.000000</td>\n",
       "      <td>0.116634</td>\n",
       "      <td>0.107044</td>\n",
       "    </tr>\n",
       "    <tr>\n",
       "      <th>ReviewLen</th>\n",
       "      <td>0.116634</td>\n",
       "      <td>1.000000</td>\n",
       "      <td>0.991661</td>\n",
       "    </tr>\n",
       "    <tr>\n",
       "      <th>WordCount</th>\n",
       "      <td>0.107044</td>\n",
       "      <td>0.991661</td>\n",
       "      <td>1.000000</td>\n",
       "    </tr>\n",
       "  </tbody>\n",
       "</table>\n",
       "</div>"
      ],
      "text/plain": [
       "           Sentiment  ReviewLen  WordCount\n",
       "Sentiment   1.000000   0.116634   0.107044\n",
       "ReviewLen   0.116634   1.000000   0.991661\n",
       "WordCount   0.107044   0.991661   1.000000"
      ]
     },
     "execution_count": 76,
     "metadata": {},
     "output_type": "execute_result"
    }
   ],
   "source": [
    "correlation"
   ]
  },
  {
   "cell_type": "code",
   "execution_count": null,
   "metadata": {},
   "outputs": [],
   "source": []
  }
 ],
 "metadata": {
  "kernelspec": {
   "display_name": "Python 3",
   "language": "python",
   "name": "python3"
  },
  "language_info": {
   "codemirror_mode": {
    "name": "ipython",
    "version": 3
   },
   "file_extension": ".py",
   "mimetype": "text/x-python",
   "name": "python",
   "nbconvert_exporter": "python",
   "pygments_lexer": "ipython3",
   "version": "3.6.9"
  }
 },
 "nbformat": 4,
 "nbformat_minor": 2
}
